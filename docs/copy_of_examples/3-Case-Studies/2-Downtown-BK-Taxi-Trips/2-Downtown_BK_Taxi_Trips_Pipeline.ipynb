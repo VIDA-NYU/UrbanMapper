{
 "cells": [
  {
   "cell_type": "markdown",
   "metadata": {},
   "source": [
    "# Taxi Trips Study - Pipeline\n",
    "This notebook uses UrbanPipeline to analyze taxi trips, counting pickups and dropoffs.\n",
    "\n",
    "## Data Sources\n",
    "\n",
    "- **[Yellow NYC Taxis 2015](https://arc.net/l/quote/pwljlsqk)**: Sample taxi trip data for NYC.\n"
   ]
  },
  {
   "cell_type": "code",
   "execution_count": null,
   "metadata": {},
   "outputs": [],
   "source": [
    "import urban_mapper as um\n",
    "from urban_mapper.pipeline import UrbanPipeline\n",
    "\n",
    "# Define the pipeline\n",
    "pipeline = UrbanPipeline([\n",
    "    (\"urban_layer\", (\n",
    "        um.UrbanMapper().urban_layer\n",
    "        .with_type(\"streets_roads\")\n",
    "        .from_place(\"Downtown Brooklyn, New York City, USA\", network_type=\"drive\")\n",
    "        .with_mapping(\n",
    "            longitude_column=\"pickup_longitude\",\n",
    "            latitude_column=\"pickup_latitude\",\n",
    "            output_column=\"pickup_segment\"\n",
    "        )\n",
    "        .with_mapping(\n",
    "            longitude_column=\"dropoff_longitude\",\n",
    "            latitude_column=\"dropoff_latitude\",\n",
    "            output_column=\"dropoff_segment\"\n",
    "        )\n",
    "        .build()\n",
    "    )),\n",
    "    # Note: For the documentation interactive mode, we only query 5000 records from the dataset.  Feel free to remove for a more realistic analysis.  \n",
    "    (\"loader\", (\n",
    "        um.UrbanMapper().loader\n",
    "        .from_huggingface(\"oscur/taxisvis1M\", number_of_rows=5000, streaming=True)\n",
    "        .with_columns(longitude_column=\"pickup_longitude\", latitude_column=\"pickup_latitude\")\n",
    "        .build()\n",
    "    )),\n",
    "    (\"impute_pickup\", (\n",
    "        um.UrbanMapper().imputer\n",
    "        .with_type(\"SimpleGeoImputer\")\n",
    "        .on_columns(\"pickup_longitude\", \"pickup_latitude\")\n",
    "        .build()\n",
    "    )),\n",
    "    (\"impute_dropoff\", (\n",
    "        um.UrbanMapper().imputer\n",
    "        .with_type(\"SimpleGeoImputer\")\n",
    "        .on_columns(\"dropoff_longitude\", \"dropoff_latitude\")\n",
    "        .build()\n",
    "    )),\n",
    "    (\"filter\", um.UrbanMapper().filter.with_type(\"BoundingBoxFilter\").build()),\n",
    "    (\"enrich_pickups\", (\n",
    "        um.UrbanMapper().enricher\n",
    "        .with_data(group_by=\"pickup_segment\")\n",
    "        .count_by(output_column=\"pickup_count\")\n",
    "        .build()\n",
    "    )),\n",
    "    (\"enrich_dropoffs\", (\n",
    "        um.UrbanMapper().enricher\n",
    "        .with_data(group_by=\"dropoff_segment\")\n",
    "        .count_by(output_column=\"dropoff_count\")\n",
    "        .build()\n",
    "    )),\n",
    "    (\"visualiser\", (\n",
    "        um.UrbanMapper().visual\n",
    "        .with_type(\"Interactive\")\n",
    "        .with_style({\"tiles\": \"CartoDB Positron\", \"colorbar_text_color\": \"gray\"})\n",
    "        .build()\n",
    "    ))\n",
    "])"
   ]
  },
  {
   "cell_type": "code",
   "execution_count": null,
   "metadata": {},
   "outputs": [],
   "source": [
    "# Execute the pipeline\n",
    "mapped_data, enriched_layer = pipeline.compose_transform()"
   ]
  },
  {
   "cell_type": "code",
   "execution_count": null,
   "metadata": {},
   "outputs": [],
   "source": [
    "# Visualize results\n",
    "fig = pipeline.visualise([\"pickup_count\", \"dropoff_count\"])\n",
    "fig"
   ]
  },
  {
   "cell_type": "code",
   "execution_count": null,
   "metadata": {},
   "outputs": [],
   "source": [
    "# Save the pipeline\n",
    "pipeline.save(\"./taxi_pipeline.dill\")"
   ]
  }
 ],
 "metadata": {
  "kernelspec": {
   "display_name": "Python 3 (ipykernel)",
   "language": "python",
   "name": "python3"
  },
  "language_info": {
   "codemirror_mode": {
    "name": "ipython",
    "version": 3
   },
   "file_extension": ".py",
   "mimetype": "text/x-python",
   "name": "python",
   "nbconvert_exporter": "python",
   "pygments_lexer": "ipython3",
   "version": "3.10.12"
  }
 },
 "nbformat": 4,
 "nbformat_minor": 4
}
