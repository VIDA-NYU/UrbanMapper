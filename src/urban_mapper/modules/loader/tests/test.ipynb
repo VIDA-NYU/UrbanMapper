{
 "cells": [
  {
   "cell_type": "code",
   "execution_count": 2,
   "id": "50db1e98",
   "metadata": {},
   "outputs": [
    {
     "name": "stdout",
     "output_type": "stream",
     "text": [
      "{'data_shape': (8000, 9000), 'data_dtype': 'float32', 'crs': 'EPSG:2263', 'transform': '| 1.00, 0.00, 976999.30|\\n| 0.00,-1.00, 201000.67|\\n| 0.00, 0.00, 1.00|'}\n"
     ]
    }
   ],
   "source": [
<<<<<<< HEAD
<<<<<<< HEAD
    "# manual test of the new \"load_data_from_file\"\n",
    "\n",
=======
>>>>>>> 6235106 (feat : "testin load_data_from_file")
=======
    "# manual test of the new \"load_data_from_file\"\n",
    "\n",
>>>>>>> adb60a0 (feat : "test: add functional test for GeoTIFF loading in RasterLoader")
    "from urban_mapper.modules.loader.loaders.raster_loader import RasterLoader\n",
    "\n",
    "loader = RasterLoader(\"data/lower_manhattan_dem.tif\")\n",
    "result = loader._load_data_from_file()\n",
    "print(result)\n"
   ]
  },
  {
   "cell_type": "code",
<<<<<<< HEAD
   "execution_count": 3,
   "id": "129539cc",
   "metadata": {},
   "outputs": [
    {
     "name": "stdout",
     "output_type": "stream",
     "text": [
      "{'data_shape': (8000, 9000), 'data_dtype': 'uint8', 'transform': [1.0, 0.0, 0.0, -1.0, 976999.8, 201000.175], 'crs': None}\n"
     ]
    }
   ],
   "source": [
    "# test of the loading of raster in png format \n",
    "from urban_mapper.modules.loader.loaders.raster_loader import RasterLoader\n",
    "\n",
    "loader = RasterLoader(\"data/lower_manhattan_dem.png\")\n",
    "result = loader._load_data_from_file()\n",
    "print(result)\n"
   ]
  },
  {
   "cell_type": "code",
   "execution_count": null,
   "id": "f920cc1e",
=======
   "execution_count": null,
<<<<<<< HEAD
   "id": "4eb418ff",
>>>>>>> 6235106 (feat : "testin load_data_from_file")
=======
   "id": "129539cc",
>>>>>>> adb60a0 (feat : "test: add functional test for GeoTIFF loading in RasterLoader")
   "metadata": {},
   "outputs": [],
   "source": []
  }
 ],
 "metadata": {
  "kernelspec": {
   "display_name": "Python 3 (ipykernel)",
   "language": "python",
   "name": "python3"
  },
  "language_info": {
   "codemirror_mode": {
    "name": "ipython",
    "version": 3
   },
   "file_extension": ".py",
   "mimetype": "text/x-python",
   "name": "python",
   "nbconvert_exporter": "python",
   "pygments_lexer": "ipython3",
   "version": "3.10.11"
  }
 },
 "nbformat": 4,
 "nbformat_minor": 5
}

{
 "cells": [
  {
   "cell_type": "code",
   "execution_count": 4,
   "id": "50db1e98",
   "metadata": {},
   "outputs": [
    {
     "name": "stdout",
     "output_type": "stream",
     "text": [
      "{'data_shape': (8000, 9000), 'data_dtype': 'float32', 'crs': 'EPSG:2263', 'transform': '| 1.00, 0.00, 976999.30|\\n| 0.00,-1.00, 201000.67|\\n| 0.00, 0.00, 1.00|'}\n"
     ]
    }
   ],
   "source": [
    "# manual test of the new \"load_data_from_file\"\n",
    "\n",
    "from urban_mapper.modules.loader.loaders.raster_loader import RasterLoader\n",
    "\n",
    "loader = RasterLoader(\"data/lower_manhattan_dem.tif\")\n",
    "result = loader._load_data_from_file()\n",
    "print(result)\n"
   ]
  },
  {
   "cell_type": "code",
   "execution_count": 3,
   "id": "129539cc",
   "metadata": {},
   "outputs": [
    {
     "name": "stdout",
     "output_type": "stream",
     "text": [
      "{'data_shape': (8000, 9000), 'data_dtype': 'uint8', 'transform': [1.0, 0.0, 0.0, -1.0, 976999.8, 201000.175], 'crs': None}\n"
     ]
    }
   ],
   "source": [
    "# test of the loading of raster in png format \n",
    "from urban_mapper.modules.loader.loaders.raster_loader import RasterLoader\n",
    "\n",
    "loader = RasterLoader(\"data/lower_manhattan_dem.png\")\n",
    "result = loader._load_data_from_file()\n",
    "print(result)\n"
   ]
  },
  {
   "cell_type": "code",
   "execution_count": null,
   "id": "f920cc1e",
   "metadata": {},
   "outputs": [],
   "source": []
  }
 ],
 "metadata": {
  "kernelspec": {
   "display_name": "Python 3 (ipykernel)",
   "language": "python",
   "name": "python3"
  },
  "language_info": {
   "codemirror_mode": {
    "name": "ipython",
    "version": 3
   },
   "file_extension": ".py",
   "mimetype": "text/x-python",
   "name": "python",
   "nbconvert_exporter": "python",
   "pygments_lexer": "ipython3",
   "version": "3.10.11"
  }
 },
 "nbformat": 4,
 "nbformat_minor": 5
}
