{
 "cells": [
  {
   "cell_type": "markdown",
   "id": "0",
   "metadata": {},
   "source": [
    "# 🌇 Welcome to the `Collision Analysis in Downtown Brooklyn` analysis!\n",
    "\n",
    "In this notebook, we assume that you went through all of the `Basics` examples at the very least. The following showcases a Urban Pipeline about `collisions` (motor vehicles) in `Downtown Brooklyn New York City`, in the United States, added straight into Jupyter GIS for collaborative exploration of the pipeline\n",
    "\n",
    "**Data source**:\n",
    "- https://data.cityofnewyork.us/Public-Safety/Motor-Vehicle-Collisions-Crashes/h9gi-nx95/\n",
    "\n",
    "**More readings**:\n",
    "- https://jupytergis.readthedocs.io/en/latest/"
   ]
  },
  {
   "cell_type": "code",
   "execution_count": null,
   "id": "1",
   "metadata": {},
   "outputs": [],
   "source": [
    "from urban_mapper import UrbanMapper\n",
    "from urban_mapper.mixins.jupyter_gis import LayerStyle"
   ]
  },
  {
   "cell_type": "markdown",
   "id": "2",
   "metadata": {},
   "source": [
    "## Initialise UrbanMapper\n",
    "\n",
    "We start by initialising the UrbanMapper object, which will serve as the foundation for building our data pipelines and visualisations."
   ]
  },
  {
   "cell_type": "code",
   "execution_count": null,
   "id": "3",
   "metadata": {},
   "outputs": [],
   "source": [
    "um = UrbanMapper()"
   ]
  },
  {
   "cell_type": "markdown",
   "id": "4",
   "metadata": {},
   "source": [
    "## Reusing the Collision Pipeline\n",
    "\n",
    "This section utilises the collision pipeline previously saved from the notebook located at:  \n",
    "`examples/Study Cases/Downtown BK Collisions Study/[4]Downtown_BK_Collisions_Advanced_Pipeline_Extras.ipynb`\n",
    "\n",
    "Alternatively, you may reuse one of the following pipelines:  \n",
    "- `examples/Study Cases/Downtown BK Collisions Study/[3]Downtown_BK_Collisions_Advanced_Pipeline.ipynb`  \n",
    "- `examples/Study Cases/Downtown BK Collisions Study/[2]Downtown_BK_Collisions_Pipeline.ipynb`\n",
    "\n",
    "### Instructions  \n",
    "To reuse a pipeline:  \n",
    "1. Open and execute the desired notebook.  \n",
    "2. Invoke the `save` method on the composed pipeline object.  \n",
    "3. This will generate a serialised file (e.g., `name_of_pipeline.dill`) containing the pipeline for later use, such as in this next cell.\n",
    "\n",
    "### Note\n",
    "\n",
    "You also can create your pipline straight here in this jupyter notebook then pass it into the `pipeline` parameter of `.with_pipeline(.)` introduced afterward without any issue. `.with_pipeline(.)` deals with 1) pipeline saved, pipeline non-composed and pipeline already composed under the hood for you.\n",
    "\n",
    "Here we show via an already-saved pipeline to gain time and show how fast it is.\n",
    "\n",
    "Enjoy working with the pipeline!"
   ]
  },
  {
   "cell_type": "markdown",
   "id": "5",
   "metadata": {},
   "source": [
    "## Define Visualisation Style for Collisions\n",
    "\n",
    "To make the map visually informative, we define a style for the collision data. The color gradient ranges from yellow (fewer collisions) to dark red (many collisions), based on the `collision_count` attribute."
   ]
  },
  {
   "cell_type": "code",
   "execution_count": null,
   "id": "6",
   "metadata": {},
   "outputs": [],
   "source": [
    "collision_style = LayerStyle(\n",
    "    attribute=\"collision_count\",\n",
    "    stops={\n",
    "        50: [255, 255, 0, 1],   # Yellow\n",
    "        200: [255, 215, 0, 1],  # Gold\n",
    "        500: [255, 165, 0, 1],  # Orange\n",
    "        1500: [255, 0, 0, 1],   # Red\n",
    "        3000: [139, 0, 0, 1]    # Dark red\n",
    "    },\n",
    "    interpolation_type=\"discrete\",\n",
    "    default_value=[0, 0, 0, 1]\n",
    ")"
   ]
  },
  {
   "cell_type": "markdown",
   "id": "7",
   "metadata": {},
   "source": [
    "## Create the Interactive Map\n",
    "\n",
    "We use Jupyter GIS to create an interactive map. This includes:\n",
    "- A dark base map from CartoDB. (Optional, not needed as we default this anyway.\n",
    "- The collision layer styled as circles, with opacity set to 0.7 for visibility.\n",
    "\n",
    "The map is set to a zoom level of 15 and uses the EPSG:4326 projection."
   ]
  },
  {
   "cell_type": "code",
   "execution_count": null,
   "id": "8",
   "metadata": {},
   "outputs": [],
   "source": [
    "jgis_analysis, jgis_doc = (\n",
    "    um.jupyter_gis.with_document_settings(\n",
    "        zoom=15,\n",
    "        latitude=40.6961,\n",
    "        longitude=-73.9845,\n",
    "    )\n",
    "    .with_raster_layer(\n",
    "        url=\"http://basemaps.cartocdn.com/dark_all/{z}/{x}/{y}.png\",\n",
    "        name=\"Dark Base Map\",\n",
    "        attribution=\"© OpenStreetMap contributors\",\n",
    "        opacity=0.9\n",
    "    )\n",
    "    .with_pipeline(\n",
    "        pipeline=\"<adapt_your_path>/collisions_advanced_pipeline.dill\",\n",
    "        layer_name=\"Collision Hotspots\",\n",
    "        layer_style=collision_style,\n",
    "        opacity=0.7,\n",
    "        type=\"circle\"\n",
    "    )\n",
    "    .build()\n",
    ")"
   ]
  },
  {
   "cell_type": "markdown",
   "id": "9",
   "metadata": {},
   "source": [
    "## Save the Map\n",
    "\n",
    "Finally, we save the interactive map as a `.jGIS` file, which can be reopened or shared for further exploration.\n",
    "\n",
    "DISCLAIMER: A file on the left will be created. Make sure to open it, and tada!\n",
    "\n",
    "In the meantime, you can play with the `jgis_doc` directly in this notebook if of interest too!"
   ]
  },
  {
   "cell_type": "code",
   "execution_count": null,
   "id": "10",
   "metadata": {},
   "outputs": [],
   "source": [
    "jgis_analysis.save(\"collision_analysis.jGIS\")"
   ]
  },
  {
   "cell_type": "code",
   "execution_count": null,
   "id": "11",
   "metadata": {},
   "outputs": [],
   "source": []
  }
 ],
 "metadata": {
  "kernelspec": {
   "display_name": "Python 3 (ipykernel)",
   "language": "python",
   "name": "python3"
  },
  "language_info": {
   "codemirror_mode": {
    "name": "ipython",
    "version": 3
   },
   "file_extension": ".py",
   "mimetype": "text/x-python",
   "name": "python",
   "nbconvert_exporter": "python",
   "pygments_lexer": "ipython3",
   "version": "3.10.12"
  }
 },
 "nbformat": 4,
 "nbformat_minor": 5
}
