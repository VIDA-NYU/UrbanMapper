{
 "cells": [
  {
   "cell_type": "markdown",
   "id": "0",
   "metadata": {},
   "source": [
    "# 🌇 Welcome to the `Collisions and Taxi Trips in Downtown Brooklyn` analysis!\n",
    "\n",
    "In this notebook, we assume that you went through all of the `Basics` examples at the very least. In the following notebook we dive into a dual analysis of motor vehicle collisions and taxi trip pickups in Downtown Brooklyn.\n",
    "\n",
    "**Data source**:\n",
    "- https://data.cityofnewyork.us/Public-Safety/Motor-Vehicle-Collisions-Crashes/h9gi-nx95/\n",
    "- https://www.nyc.gov/site/tlc/about/tlc-trip-record-data.page\n",
    "\n",
    "**More readings**:\n",
    "- https://jupytergis.readthedocs.io/en/latest/"
   ]
  },
  {
   "cell_type": "code",
   "execution_count": null,
   "id": "1",
   "metadata": {},
   "outputs": [],
   "source": [
    "from urban_mapper import UrbanMapper\n",
    "from urban_mapper.mixins.jupyter_gis import LayerStyle"
   ]
  },
  {
   "cell_type": "markdown",
   "id": "2",
   "metadata": {},
   "source": [
    "## Initialise UrbanMapper\n",
    "\n",
    "We begin by creating an UrbanMapper instance, which will handle our data pipelines and map creation."
   ]
  },
  {
   "cell_type": "code",
   "execution_count": null,
   "id": "3",
   "metadata": {},
   "outputs": [],
   "source": [
    "um = UrbanMapper()"
   ]
  },
  {
   "cell_type": "markdown",
   "id": "4",
   "metadata": {},
   "source": [
    "## Reusing the Collision Pipeline\n",
    "\n",
    "This section utilises the collision pipeline previously saved from the notebook located at:  \n",
    "`examples/Study Cases/Downtown BK Collisions Study/[4]Downtown_BK_Collisions_Advanced_Pipeline_Extras.ipynb`\n",
    "\n",
    "Alternatively, you may reuse one of the following pipelines:  \n",
    "- `examples/Study Cases/Downtown BK Collisions Study/[3]Downtown_BK_Collisions_Advanced_Pipeline.ipynb`  \n",
    "- `examples/Study Cases/Downtown BK Collisions Study/[2]Downtown_BK_Collisions_Pipeline.ipynb`\n",
    "\n",
    "### Instructions  \n",
    "To reuse a pipeline:  \n",
    "1. Open and execute the desired notebook.  \n",
    "2. Invoke the `save` method on the composed pipeline object.  \n",
    "3. This will generate a serialised file (e.g., `name_of_pipeline.dill`) containing the pipeline for later use, such as in this next cell.\n",
    "\n",
    "### Note\n",
    "\n",
    "You also can create your pipline straight here in this jupyter notebook then pass it into the `pipeline` parameter of `.with_pipeline(.)` introduced afterward without any issue. `.with_pipeline(.)` deals with 1) pipeline saved, pipeline non-composed and pipeline already composed under the hood for you.\n",
    "\n",
    "Here we show via an already-saved pipeline to gain time and show how fast it is.\n",
    "\n",
    "Enjoy working with the pipeline!"
   ]
  },
  {
   "cell_type": "markdown",
   "id": "5",
   "metadata": {},
   "source": [
    "## Reusing the Taxi Trips Pipeline\n",
    "\n",
    "This section utilises the taxi trips pipeline previously saved from the notebook located at:  \n",
    "`examples/Study Cases/Downtown BK Taxi Trips Study/[4]Downtown_BK_Taxi_Trips_Advanced_Pipeline_Extras.ipynb`\n",
    "\n",
    "Alternatively, you may reuse one of the following pipelines:  \n",
    "- `examples/Study Cases/Downtown BK Taxi Trips Study/[2]Downtown_BK_Taxi_Trips_Pipeline.ipynb`\n",
    "- `examples/Study Cases/Downtown BK Taxi Trips Study/[3]Downtown_BK_Taxi_Trips_Advanced_Pipeline.ipynb`\n",
    "\n",
    "### Instructions  \n",
    "To reuse a pipeline:  \n",
    "1. Open and execute the desired notebook.  \n",
    "2. Invoke the `save` method on the composed pipeline object.  \n",
    "3. This will generate a serialised file (e.g., `name_of_pipeline.dill`) containing the pipeline for later use, such as in this next cell.\n",
    "\n",
    "### Note\n",
    "\n",
    "You also can create your pipline straight here in this jupyter notebook then pass it into the `pipeline` parameter of `.with_pipeline(.)` introduced afterward without any issue. `.with_pipeline(.)` deals with 1) pipeline saved, pipeline non-composed and pipeline already composed under the hood for you.\n",
    "\n",
    "Here we show via an already-saved pipeline to gain time and show how fast it is.\n",
    "\n",
    "Enjoy working with the pipeline!"
   ]
  },
  {
   "cell_type": "markdown",
   "id": "6",
   "metadata": {},
   "source": [
    "## Define Visualisation Styles\n",
    "\n",
    "We define styles for both layers:\n",
    "- **Collisions**: Yellow to dark red based on count, using discrete steps.\n",
    "- **Taxi Pickups**: Light yellow to dark red with a linear gradient, reflecting pickup density."
   ]
  },
  {
   "cell_type": "code",
   "execution_count": null,
   "id": "7",
   "metadata": {},
   "outputs": [],
   "source": [
    "collision_style = LayerStyle(\n",
    "    attribute=\"collision_count\",\n",
    "    stops={\n",
    "        50: [255, 255, 0, 1],   # Yellow\n",
    "        200: [255, 215, 0, 1],  # Gold\n",
    "        500: [255, 165, 0, 1],  # Orange\n",
    "        1500: [255, 0, 0, 1],   # Red\n",
    "        3000: [139, 0, 0, 1]    # Dark red\n",
    "    },\n",
    "    interpolation_type=\"discrete\",\n",
    "    default_value=[0, 0, 0, 1]\n",
    ")\n",
    "\n",
    "taxi_style = LayerStyle(\n",
    "    attribute=\"pickup_count\",\n",
    "    stops={\n",
    "        100: [255, 255, 153, 1],  # Bright light yellow\n",
    "        101: [255, 51, 153, 1],   # Hot pink\n",
    "        2000: [153, 51, 255, 1],  # Bright purple\n",
    "        5000: [139, 0, 0, 1]      # Dark red\n",
    "    },\n",
    "    interpolation_type=\"linear\"\n",
    ")"
   ]
  },
  {
   "cell_type": "markdown",
   "id": "8",
   "metadata": {},
   "source": [
    "## Create the Interactive Map\n",
    "\n",
    "The map includes a dark base layer, with collisions as circles and taxi pickups as lines, allowing us to see both datasets overlaid."
   ]
  },
  {
   "cell_type": "code",
   "execution_count": null,
   "id": "9",
   "metadata": {},
   "outputs": [],
   "source": [
    "jgis_analysis, jgis_doc = (\n",
    "    um.jupyter_gis.with_document_settings(zoom=15)\n",
    "    .with_raster_layer(\n",
    "        url=\"http://basemaps.cartocdn.com/dark_all/{z}/{x}/{y}.png\",\n",
    "        name=\"Dark Base Map\",\n",
    "        attribution=\"© OpenStreetMap contributors\",\n",
    "        opacity=0.9\n",
    "    )\n",
    "    .with_pipeline(\n",
    "        pipeline=\"<adapt_your_path>/taxi_advanced_pipeline.dill\",\n",
    "        layer_name=\"Taxi Pickup Density\",\n",
    "        layer_style=taxi_style,\n",
    "        opacity=0.6,\n",
    "        type=\"line\"\n",
    "    )\n",
    "    .with_pipeline(\n",
    "        pipeline=\"<adapt_your_path>/collisions_advanced_pipeline.dill\",\n",
    "        layer_name=\"Collision Hotspots\",\n",
    "        layer_style=collision_style,\n",
    "        opacity=0.7,\n",
    "        type=\"circle\"\n",
    "    )\n",
    "    .build()\n",
    ")"
   ]
  },
  {
   "cell_type": "markdown",
   "id": "10",
   "metadata": {},
   "source": [
    "## Save the Map\n",
    "\n",
    "We save the combined map for future use or sharing.\n",
    "\n",
    "DISCLAIMER: A file on the left will be created. Make sure to open it, and tada!\n",
    "\n",
    "In the meantime, you can play with the `jgis_doc` directly in this notebook if of interest too!"
   ]
  },
  {
   "cell_type": "code",
   "execution_count": null,
   "id": "11",
   "metadata": {},
   "outputs": [],
   "source": [
    "jgis_analysis.save(\"collision_taxi_analysis.jGIS\")"
   ]
  },
  {
   "cell_type": "code",
   "execution_count": null,
   "id": "12",
   "metadata": {},
   "outputs": [],
   "source": []
  }
 ],
 "metadata": {
  "kernelspec": {
   "display_name": "Python 3 (ipykernel)",
   "language": "python",
   "name": "python3"
  },
  "language_info": {
   "codemirror_mode": {
    "name": "ipython",
    "version": 3
   },
   "file_extension": ".py",
   "mimetype": "text/x-python",
   "name": "python",
   "nbconvert_exporter": "python",
   "pygments_lexer": "ipython3",
   "version": "3.10.12"
  }
 },
 "nbformat": 4,
 "nbformat_minor": 5
}
