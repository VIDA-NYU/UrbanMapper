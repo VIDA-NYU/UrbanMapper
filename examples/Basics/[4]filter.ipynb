{
 "cells": [
  {
   "cell_type": "markdown",
   "metadata": {},
   "source": [
    "# 🌇 Welcome to the `filter` module!\n",
    "\n",
    "In this notebook, we’ll zoom in on the important bits of your data, make sure only the data points within your just querried `urban_layer` remains!\n",
    "\n",
    "**Data source used**:\n",
    "- PLUTO data from NYC Open Data. https://www.nyc.gov/content/planning/pages/resources/datasets/mappluto-pluto-change\n",
    "\n",
    "**What you’ll learn**:\n",
    "- Loading data and setting up a layer.\n",
    "- Using `BoundingBoxFilter` to trim your data."
   ]
  },
  {
   "cell_type": "code",
   "execution_count": null,
   "metadata": {},
   "outputs": [],
   "source": [
    "import urban_mapper as um\n",
    "\n",
    "# Get UrbanMapper rolling\n",
    "mapper = um.UrbanMapper()"
   ]
  },
  {
   "cell_type": "markdown",
   "metadata": {},
   "source": [
    "## Loading Data and Creating a Layer\n",
    "\n",
    "First, let’s load some data and create a layer for say `Downtown Brooklyn`.\n",
    "\n",
    "Note that:\n",
    "\n",
    "- Loader example can be seen in `examples/Basics/loader.ipynb` to know how to load your own data.\n",
    "- Urban Layer example can be seen in `examples/Basics/urban_layer.ipynb` to know how to query your layer e.g of Downtown brooklyn streets intersections.\n"
   ]
  },
  {
   "cell_type": "code",
   "execution_count": null,
   "metadata": {},
   "outputs": [],
   "source": [
    "# Load data\n",
    "data = (\n",
    "    mapper.loader.from_file(\"../data/[NYC][USA] MapPluto/CSV/pluto.csv\")  # From the loader module and from file\n",
    "    .with_columns(longitude_column=\"longitude\", latitude_column=\"latitude\") # With the columns longitude and latitude\n",
    "    .load() # Load the data\n",
    ")\n",
    "\n",
    "# Create urban layer\n",
    "layer = (\n",
    "    mapper.urban_layer.with_type(\"streets_intersections\")  # From the urban_layer module and with type streets_intersections\n",
    "    .from_place(\"Downtown Brooklyn, New York City, USA\") # From a place\n",
    "    .build()\n",
    ")"
   ]
  },
  {
   "cell_type": "markdown",
   "metadata": {},
   "source": [
    "## Applying the Filter\n",
    "\n",
    "Now we've got all the ingradients, let’s use the `BoundingBoxFilter` to keep only the data points within our layer’s bounds. It’s like putting a spotlight on Downtown Brooklyn say you had data for the whole of New York City."
   ]
  },
  {
   "cell_type": "code",
   "execution_count": null,
   "metadata": {},
   "outputs": [],
   "source": [
    "# Apply filter\n",
    "filtered_data = (\n",
    "    mapper\n",
    "    .filter # From the filter module\n",
    "    .with_type(\"BoundingBoxFilter\") # With type BoundingBoxFilter which is a filter that filters out your data points based on the bounding box of the layer\n",
    "    .transform(data, layer) # Transform the data with the layer previously queried\n",
    ")\n",
    "filtered_data"
   ]
  },
  {
   "cell_type": "markdown",
   "metadata": {},
   "source": [
    "## Be Able To Preview Your Filter\n",
    "\n",
    "Curious about your filter? Use `preview()` to see its setup—super useful when you’re borrowing someone else’s analysis!"
   ]
  },
  {
   "cell_type": "code",
   "execution_count": null,
   "metadata": {},
   "outputs": [],
   "source": [
    "# Preview filter\n",
    "print(mapper.filter.preview())"
   ]
  },
  {
   "cell_type": "markdown",
   "metadata": {},
   "source": [
    "# More Geo Filter primitives ?\n",
    "\n",
    "Wants more? Come shout that out on https://github.com/VIDA-NYU/UrbanMapper/issues/5"
   ]
  },
  {
   "cell_type": "markdown",
   "metadata": {},
   "source": [
    "## Wrapping Up\n",
    "\n",
    "Well done, you star! You’ve filtered your data to focus on what matters. Next stop: try `enricher` or `visualiser`."
   ]
  },
  {
   "cell_type": "code",
   "execution_count": null,
   "metadata": {},
   "outputs": [],
   "source": []
  }
 ],
 "metadata": {
  "kernelspec": {
   "display_name": "Python 3 (ipykernel)",
   "language": "python",
   "name": "python3"
  },
  "language_info": {
   "codemirror_mode": {
    "name": "ipython",
    "version": 3
   },
   "file_extension": ".py",
   "mimetype": "text/x-python",
   "name": "python",
   "nbconvert_exporter": "python",
   "pygments_lexer": "ipython3",
   "version": "3.13.3"
  }
 },
 "nbformat": 4,
 "nbformat_minor": 4
}
