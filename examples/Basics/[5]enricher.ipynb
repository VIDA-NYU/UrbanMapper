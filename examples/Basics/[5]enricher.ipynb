{
 "cells": [
  {
   "cell_type": "markdown",
   "metadata": {},
   "source": [
    "# 🌇 Welcome to the `enricher` module!\n",
    "\n",
    "In this notebook we’ll sprinkle some extra magic onto your urban layers. Let’s add e.g. average building floors to a layer and see it sparkle!\n",
    "\n",
    "**Data source used**:\n",
    "- PLUTO data from NYC Open Data. https://www.nyc.gov/content/planning/pages/resources/datasets/mappluto-pluto-change\n",
    "\n",
    "**What you’ll learn**:\n",
    "- Loading data and creating a layer.\n",
    "- Enriching it with average floors.\n",
    "- Previewing the enrichment setup.\n",
    "- Using the debug feature to track sample indices.\n",
    "\n",
    "Let’s jazz things up! 🏙️"
   ]
  },
  {
   "cell_type": "code",
   "execution_count": null,
   "metadata": {},
   "outputs": [],
   "source": [
    "import urban_mapper as um\n",
    "\n",
    "# Start UrbanMapper\n",
    "mapper = um.UrbanMapper()"
   ]
  },
  {
   "cell_type": "markdown",
   "metadata": {},
   "source": [
    "## Loading Data and Creating a Layer\n",
    "\n",
    "First, let’s grab some PLUTO data and set up a street intersections layer for Downtown Brooklyn.\n",
    "\n",
    "Note that:\n",
    "\n",
    "- Loader example can be seen in `examples/Basics/loader.ipynb`\n",
    "- Urban Layer example can be seen in `examples/Basics/urban_layer.ipynb`\n",
    "- Imputer example can be seen in `examples/Basics/imputer.ipynb`"
   ]
  },
  {
   "cell_type": "code",
   "execution_count": null,
   "metadata": {},
   "outputs": [],
   "source": [
    "# Load data\n",
    "data = (\n",
    "    mapper\n",
    "    .loader # From the loader module\n",
    "    .from_file(\"../data/[NYC][USA] MapPluto/CSV/pluto.csv\")  # Pluto data usually gives lot tax building information in NYC. Download it and change the path here.\n",
    "    .with_columns(longitude_column=\"longitude\", latitude_column=\"latitude\") # Inform your long and lat columns\n",
    "    .load()\n",
    ")\n",
    "\n",
    "# Create urban layer\n",
    "layer = (\n",
    "    mapper\n",
    "    .urban_layer # From the urban_layer module\n",
    "    .with_type(\"streets_intersections\")  # With the type streets_intersections\n",
    "    .from_place(\"Downtown Brooklyn, New York City, USA\") # From place\n",
    "    .build()\n",
    ")\n",
    "\n",
    "# Impute your data if they contain missing values\n",
    "data = (\n",
    "    mapper\n",
    "    .imputer # From the imputer module\n",
    "    .with_type(\"SimpleGeoImputer\")  # With the type SimpleGeoImputer\n",
    "    .on_columns(longitude_column=\"longitude\", latitude_column=\"latitude\") # On the columns longitude and latitude\n",
    "    .transform(data, layer)  # All imputers require access to the urban layer in case they need to extract information from it.\n",
    ")"
   ]
  },
  {
   "cell_type": "markdown",
   "metadata": {},
   "source": [
    "## Enriching the Layer with Debug Enabled\n",
    "\n",
    "Now that we've gathered the ingredients let's enrich our urban layer. E.g with the average number of floors per intersection. We’ll map the data, set up the enricher with the debug feature enabled, and apply it.\n",
    "\n",
    "Feel free for further readings to explore our Figma system workflow at: https://www.figma.com/board/0uaU4vJiwyZJSntljJDKWf/Developer-Experience-Flow-Diagram---Snippet-Code?node-id=0-1&t=mESZ52qU1D2lfzvH-1"
   ]
  },
  {
   "cell_type": "code",
   "execution_count": null,
   "metadata": {},
   "outputs": [],
   "source": [
    "# Map data to the nearest layer\n",
    "# Here the point is to say which intersection of the city maps with which record(s) in your data\n",
    "# so that we can take into account when enriching.\n",
    "_, mapped_data = layer.map_nearest_layer(\n",
    "    data,\n",
    "    longitude_column=\"longitude\",\n",
    "    latitude_column=\"latitude\",\n",
    "    output_column=\"nearest_intersection\", # Will create this column in the data, so that we can re-use that throughout the enriching process below.\n",
    ")\n",
    "\n",
    "# Set up and apply enricher with debug enabled\n",
    "enricher = (\n",
    "    mapper\n",
    "    .enricher # From the enricher module\n",
    "    .with_data(\n",
    "        group_by=\"nearest_intersection\", values_from=\"numfloors\"\n",
    "    ) # Reading: With data grouped by the nearest intersection, and the values from the attribute numfloors\n",
    "    .aggregate_by(\n",
    "        method=\"mean\", output_column=\"avg_floors\"\n",
    "    ) # Reading: Aggregate by using the mean and output the computation into the avg_floors new attribute of the urban layer\n",
    "    .with_debug()  # Enable debug to add DEBUG_avg_floors column which will contain the list of indices from the input data used for each enrichment\n",
    "    .build()\n",
    ")\n",
    "enriched_layer = enricher.enrich(\n",
    "    mapped_data, layer\n",
    ")  # Data to use, Urban Layer to Enrich."
   ]
  },
  {
   "cell_type": "markdown",
   "metadata": {},
   "source": [
    "## Inspecting the Enriched Layer with Debug Information\n",
    "\n",
    "Let’s take a look at the enriched layer, which now includes the `avg_floors` column and the `DEBUG_avg_floors` column with the list of indices from the input data used for each enrichment."
   ]
  },
  {
   "cell_type": "code",
   "execution_count": null,
   "metadata": {},
   "outputs": [],
   "source": [
    "# Preview the enriched layer with debug information\n",
    "print(enriched_layer.layer[['avg_floors', 'DEBUG_avg_floors']].head(50))"
   ]
  },
  {
   "cell_type": "markdown",
   "metadata": {},
   "source": [
    "## Be Able To Preview Your Enricher\n",
    "\n",
    "Fancy a peek at your enricher? Use `preview()` to see the setup—great for when you’re digging into someone else’s work!"
   ]
  },
  {
   "cell_type": "code",
   "execution_count": null,
   "metadata": {},
   "outputs": [],
   "source": [
    "# Preview enricher\n",
    "print(enricher.preview())"
   ]
  },
  {
   "cell_type": "markdown",
   "metadata": {},
   "source": [
    "# More Enricher / Aggregators primitives ?\n",
    "\n",
    "Yes ! We deliver `cont_by` instead of `aggregate_by` which simply count the number of records rather than aggregating. Further is shown per future examples outside `Basics`.\n",
    "\n",
    "Wants more? Come shout that out on https://github.com/VIDA-NYU/UrbanMapper/issues/11"
   ]
  },
  {
   "cell_type": "markdown",
   "metadata": {},
   "source": [
    "## Wrapping Up\n",
    "\n",
    "Smashing work! 🎉 Your layer’s now enriched with average floors and includes debug information to trace back to the original data. Try visualising it next with `visualiser`."
   ]
  },
  {
   "cell_type": "code",
   "execution_count": null,
   "metadata": {},
   "outputs": [],
   "source": []
  }
 ],
 "metadata": {
  "kernelspec": {
   "display_name": "Python 3 (ipykernel)",
   "language": "python",
   "name": "python3"
  },
  "language_info": {
   "codemirror_mode": {
    "name": "ipython",
    "version": 3
   },
   "file_extension": ".py",
   "mimetype": "text/x-python",
   "name": "python",
   "nbconvert_exporter": "python",
   "pygments_lexer": "ipython3",
   "version": "3.13.3"
  }
 },
 "nbformat": 4,
 "nbformat_minor": 4
}
