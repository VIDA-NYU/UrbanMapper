{
 "cells": [
  {
   "cell_type": "markdown",
   "metadata": {},
   "source": [
    "# 🌇 Welcome to the `imputer` module!\n",
    "\n",
    "In this notebook, we’re tackling the Imputer module—your best take for sorting out missing geospatial data. Let’s see it in action with some sample data!\n",
    "\n",
    "**Data source used**:\n",
    "- PLUTO data from NYC Open Data. https://www.nyc.gov/content/planning/pages/resources/datasets/mappluto-pluto-change\n",
    "\n",
    "**What you’ll learn**:\n",
    "- Loading some sample data.\n",
    "- Using `SimpleGeoImputer` to fix missing coordinates."
   ]
  },
  {
   "cell_type": "code",
   "execution_count": null,
   "metadata": {},
   "outputs": [],
   "source": [
    "import urban_mapper as um\n",
    "\n",
    "# Fire up UrbanMapper\n",
    "mapper = um.UrbanMapper()"
   ]
  },
  {
   "cell_type": "markdown",
   "metadata": {},
   "source": [
    "## Loading Sample Data\n",
    "\n",
    "First, let’s grab some sample CSV data. It might have a few gaps in the coordinates, but we’ll sort that out in a jiffy!\n",
    "\n",
    "Note that:\n",
    "- Loader example can be seen in `examples/Basics/loader.ipynb` especially to load your data.\n"
   ]
  },
  {
   "cell_type": "code",
   "execution_count": null,
   "metadata": {},
   "outputs": [],
   "source": [
    "# Load CSV data\n",
    "data = (\n",
    "    mapper\n",
    "    .loader\n",
    "    .from_file(\"../data/[NYC][USA] MapPluto/CSV/pluto.csv\").with_columns(\"longitude\", \"latitude\").load()\n",
    "    # From the loader module, from the following file and with the `longitude` and `latitude`\n",
    ")"
   ]
  },
  {
   "cell_type": "markdown",
   "metadata": {},
   "source": [
    "## Applying the Imputer\n",
    "\n",
    "Now, let’s bring in the `SimpleGeoImputer` to patch up any missing longitude or latitude values. We’ll tell it which columns to focus on.\n",
    "\n",
    "`SimpleGeoImputer` naively imputes missing values if either the longitude or latitude is missing.\n",
    "However, more are available. See further in the documentation."
   ]
  },
  {
   "cell_type": "code",
   "execution_count": null,
   "metadata": {},
   "outputs": [],
   "source": [
    "# Create an urban layer (needed for the imputer)\n",
    "# See further in the urban_layer example at examples/Basics/urban_layer.ipynb\n",
    "layer = (\n",
    "    mapper.urban_layer.with_type(\"streets_intersections\") # From the urban layer module and with the type streets_intersections\n",
    "    .from_place(\"Downtown Brooklyn, New York City, USA\") # From place\n",
    "    .build()\n",
    ")\n",
    "\n",
    "print(f\"[Before Impute] Number of missing values in the longitude column: {data['longitude'].isnull().sum()}\")\n",
    "print(f\"[Before Impute] Number of missing values in the latitude column: {data['latitude'].isnull().sum()}\")\n",
    "\n",
    "# Apply the imputer\n",
    "imputed_data = (\n",
    "    mapper\n",
    "    .imputer # From the imputer module\n",
    "    .with_type(\"SimpleGeoImputer\") # With the type SimpleGeoImputer\n",
    "    .on_columns(longitude_column=\"longitude\", latitude_column=\"latitude\") # On the columns longitude and latitude\n",
    "    .transform(data, layer)  # All imputers require access to the urban layer in case they need to extract information from it.\n",
    ")\n",
    "\n",
    "print(f\"[After Impute] Number of missing values in the longitude column: {imputed_data['longitude'].isnull().sum()}\")\n",
    "print(f\"[After Impute] Number of missing values in the latitude column: {imputed_data['latitude'].isnull().sum()}\")\n",
    "\n",
    "imputed_data"
   ]
  },
  {
   "cell_type": "markdown",
   "metadata": {},
   "source": [
    "## Be Able To Preview Your Imputer's instance\n",
    "\n",
    "Additionally, you can preview your imputer's instance to see what columns you've specified and the imputer type you've used. Pretty useful when you load a urban analysis shared by someone else."
   ]
  },
  {
   "cell_type": "code",
   "execution_count": null,
   "metadata": {},
   "outputs": [],
   "source": [
    "print(mapper.imputer.preview())"
   ]
  },
  {
   "cell_type": "markdown",
   "metadata": {},
   "source": [
    "# More Geo Imputers primitives ?\n",
    "\n",
    "Yes ! We deliver `AddressGeoImputer` which simply geocode based on a given `address` attribute in your dataset, the missing coordinates.\n",
    "\n",
    "Wants more? Come shout that out on https://github.com/VIDA-NYU/UrbanMapper/issues/4"
   ]
  },
  {
   "cell_type": "markdown",
   "metadata": {},
   "source": [
    "## Wrapping Up\n",
    "\n",
    "Brilliant! 🎉 You’ve patched up those missing coordinates like a champ. Your data’s looking spick and span!"
   ]
  }
 ],
 "metadata": {
  "kernelspec": {
   "display_name": "Python 3 (ipykernel)",
   "language": "python",
   "name": "python3"
  },
  "language_info": {
   "codemirror_mode": {
    "name": "ipython",
    "version": 3
   },
   "file_extension": ".py",
   "mimetype": "text/x-python",
   "name": "python",
   "nbconvert_exporter": "python",
   "pygments_lexer": "ipython3",
   "version": "3.13.3"
  }
 },
 "nbformat": 4,
 "nbformat_minor": 4
}
