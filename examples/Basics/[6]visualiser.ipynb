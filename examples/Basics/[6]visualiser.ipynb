{
 "cells": [
  {
   "cell_type": "markdown",
   "metadata": {},
   "source": [
    "# 🌇 Welcome to the `visualiser` module!\n",
    "\n",
    "In this notebook we'll explore how to finally visualise the result of an entire workflow (examples `[1-5]`) into a maps—static and interactive visualisers.\n",
    "\n",
    "Let’s make an enriched layer pop!\n",
    "\n",
    "**Data source used**:\n",
    "- PLUTO data from NYC Open Data. https://www.nyc.gov/content/planning/pages/resources/datasets/mappluto-pluto-change\n",
    "\n",
    "**What you’ll learn**:\n",
    "- Setting up an enriched layer.\n",
    "- Drawing a static map.\n",
    "- Creating an interactive map with e.g a dark theme.\n",
    "\n",
    "Let’s make some pretty maps! 🗺️"
   ]
  },
  {
   "cell_type": "code",
   "execution_count": null,
   "metadata": {},
   "outputs": [],
   "source": [
    "import urban_mapper as um\n",
    "\n",
    "# Kick off UrbanMapper\n",
    "mapper = um.UrbanMapper()"
   ]
  },
  {
   "cell_type": "markdown",
   "metadata": {},
   "source": [
    "## Preparing the Data and Layer\n",
    "\n",
    "First, let’s load data, create a layer, and enrich it with average building floors.\n",
    "\n",
    "Note that:\n",
    "\n",
    "- Loader example can be seen in `examples/Basics/loader.ipynb`\n",
    "- Urban Layer example can be seen in `examples/Basics/urban_layer.ipynb`\n",
    "- Enricher example can be see in `examples/Basics/enricher.ipynb`\n",
    "- Imputer example can be seen in `examples/Basics/imputer.ipynb`\n",
    "- Filter example can be seen in `examples/Basics/filter.ipynb`"
   ]
  },
  {
   "cell_type": "code",
   "execution_count": null,
   "metadata": {},
   "outputs": [],
   "source": [
    "######\n",
    "#\n",
    "# We will on purpose do inline chaining of the methods to fasten the process.\n",
    "#\n",
    "######\n",
    "\n",
    "# Load data\n",
    "data = mapper.loader.from_file(\"../data/[NYC][USA] MapPluto/CSV/pluto.csv\").with_columns(\"longitude\", \"latitude\").load()\n",
    "\n",
    "# Create urban layer\n",
    "layer = mapper.urban_layer.with_type(\"streets_intersections\").from_place(\"Downtown Brooklyn, New York City, USA\").build()\n",
    "\n",
    "# Impute your data if they contain missing values\n",
    "data = mapper.imputer.with_type(\"SimpleGeoImputer\").on_columns(\"longitude\", \"latitude\").transform(data, layer)\n",
    "\n",
    "# Filter your data if they contain data beyond the bounding box your urban layer above\n",
    "data = mapper.filter.with_type(\"BoundingBoxFilter\").transform(data, layer)\n",
    "\n",
    "# Map data to nearest layer\n",
    "_, mapped_data = layer.map_nearest_layer(\n",
    "    data,\n",
    "    longitude_column=\"longitude\",\n",
    "    latitude_column=\"latitude\",\n",
    "    output_column=\"nearest_intersection\",\n",
    ")\n",
    "\n",
    "# Enrich layer\n",
    "enricher = (\n",
    "    mapper.enricher\n",
    "    .with_data(group_by=\"nearest_intersection\", values_from=\"numfloors\")\n",
    "    .aggregate_by(method=\"mean\", output_column=\"avg_floors\")\n",
    "    .build()\n",
    ")\n",
    "\n",
    "enriched_layer = enricher.enrich(mapped_data, layer)"
   ]
  },
  {
   "cell_type": "markdown",
   "metadata": {},
   "source": [
    "## Static Visualisation\n",
    "\n",
    "Now that we've cooked the various ingredients, let’s whip up a static map with Matplotlib to see our enriched layer."
   ]
  },
  {
   "cell_type": "code",
   "execution_count": null,
   "metadata": {},
   "outputs": [],
   "source": [
    "# Static visualisation\n",
    "fig_static = (\n",
    "    mapper\n",
    "    .visual # From the visualiser module\n",
    "    .with_type(\"Static\")  # With type Static\n",
    "    .show(columns=[\"avg_floors\"])  # Show the avg_floors column\n",
    "    .render(enriched_layer.get_layer()) # Render the enriched layer\n",
    ")"
   ]
  },
  {
   "cell_type": "markdown",
   "metadata": {},
   "source": [
    "## Interactive Visualisation\n",
    "\n",
    "Now, let’s go fancy with an interactive Folium map—dark theme, because why not?"
   ]
  },
  {
   "cell_type": "code",
   "execution_count": null,
   "metadata": {},
   "outputs": [],
   "source": [
    "# Interactive visualisation\n",
    "fig_interactive = (\n",
    "    mapper\n",
    "    .visual # From the visualiser module\n",
    "    .with_type(\"Interactive\")  # With type Interactive\n",
    "    .with_style({\"tiles\": \"CartoDB dark_matter\"}) # Dark theme style\n",
    "    .show(columns=[\"avg_floors\"])  # Show the avg_floors column\n",
    "    .render(enriched_layer.get_layer()) # Render the enriched layer\n",
    ")\n",
    "fig_interactive"
   ]
  },
  {
   "cell_type": "markdown",
   "metadata": {},
   "source": [
    "## Be Able To Preview Your Visualiser\n",
    "\n",
    "Want to check your visualiser’s setup? `preview()` shows you the type and style—perfect for shared projects!"
   ]
  },
  {
   "cell_type": "code",
   "execution_count": null,
   "metadata": {},
   "outputs": [],
   "source": [
    "# Preview visualiser\n",
    "print(mapper.visual.preview())"
   ]
  },
  {
   "cell_type": "markdown",
   "metadata": {},
   "source": [
    "# More visualiser primitives ?\n",
    "\n",
    "Wants more? Come shout that out on https://github.com/VIDA-NYU/UrbanMapper/issues/9"
   ]
  },
  {
   "cell_type": "markdown",
   "metadata": {},
   "source": [
    "## Wrapping Up\n",
    "\n",
    "Blimey, you’re ace! 🌟 You’ve made static and interactive maps like a pro. Tweak the styles or columns next—you’re unstoppable! 🚀"
   ]
  },
  {
   "cell_type": "code",
   "execution_count": null,
   "metadata": {},
   "outputs": [],
   "source": []
  }
 ],
 "metadata": {
  "kernelspec": {
   "display_name": "Python 3 (ipykernel)",
   "language": "python",
   "name": "python3"
  },
  "language_info": {
   "codemirror_mode": {
    "name": "ipython",
    "version": 3
   },
   "file_extension": ".py",
   "mimetype": "text/x-python",
   "name": "python",
   "nbconvert_exporter": "python",
   "pygments_lexer": "ipython3",
   "version": "3.13.3"
  }
 },
 "nbformat": 4,
 "nbformat_minor": 4
}
